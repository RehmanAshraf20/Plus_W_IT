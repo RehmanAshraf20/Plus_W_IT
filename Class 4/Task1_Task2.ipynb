{
  "nbformat": 4,
  "nbformat_minor": 0,
  "metadata": {
    "colab": {
      "provenance": []
    },
    "kernelspec": {
      "name": "python3",
      "display_name": "Python 3"
    },
    "language_info": {
      "name": "python"
    }
  },
  "cells": [
    {
      "cell_type": "code",
      "execution_count": 6,
      "metadata": {
        "colab": {
          "base_uri": "https://localhost:8080/"
        },
        "id": "pjv82hqCGl2o",
        "outputId": "f40e9809-c6ce-43ae-c96d-f021f3d21527"
      },
      "outputs": [
        {
          "output_type": "stream",
          "name": "stdout",
          "text": [
            "1D array: [1 2 3 4 5]\n",
            "2D array:\n",
            " [[1 2 3]\n",
            " [4 5 6]\n",
            " [7 8 9]]\n",
            "Sum of 1D array: 15\n",
            "Mean of 2D array: 5.0\n",
            "Transpose of 2D array:\n",
            " [[1 4 7]\n",
            " [2 5 8]\n",
            " [3 6 9]]\n"
          ]
        }
      ],
      "source": [
        "# ------ Task 1 ------\n",
        "import numpy as np\n",
        "arr_1d = np.array([1, 2, 3, 4, 5])\n",
        "arr_2d = np.array([[1, 2, 3], [4, 5, 6], [7, 8, 9]])\n",
        "\n",
        "def process_arrays():\n",
        "    global arr_1d, arr_2d\n",
        "    print(\"1D array:\", arr_1d)\n",
        "    print(\"2D array:\\n\", arr_2d)\n",
        "    print(\"Sum of 1D array:\", np.sum(arr_1d))\n",
        "    print(\"Mean of 2D array:\", np.mean(arr_2d))\n",
        "    print(\"Transpose of 2D array:\\n\", np.transpose(arr_2d))\n",
        "process_arrays()"
      ]
    },
    {
      "cell_type": "code",
      "source": [
        "# ------ Task 2 ------\n",
        "import numpy as np\n",
        "def process_image():\n",
        "    image = np.random.randint(0, 256, (5, 5), dtype=np.uint8)\n",
        "    print(\"Original Image:\\n\", image)\n",
        "    cropped = image[1:4, 1:4]\n",
        "    print(\"Cropped Section:\\n\", cropped)\n",
        "    inverted_image = 255 - image\n",
        "    print(\"Inverted Image:\\n\", inverted_image)\n",
        "process_image()"
      ],
      "metadata": {
        "colab": {
          "base_uri": "https://localhost:8080/"
        },
        "id": "RpMGiQ0SI_rM",
        "outputId": "d9d6fc5c-7e23-44fe-cc66-5a0eea9db1d7"
      },
      "execution_count": 11,
      "outputs": [
        {
          "output_type": "stream",
          "name": "stdout",
          "text": [
            "Original Image:\n",
            " [[116  35 203 129  62]\n",
            " [ 29 207 125  85 230]\n",
            " [158 217 252 119 155]\n",
            " [141 228 165  80  95]\n",
            " [117  77 213 218 168]]\n",
            "Cropped Section:\n",
            " [[207 125  85]\n",
            " [217 252 119]\n",
            " [228 165  80]]\n",
            "Inverted Image:\n",
            " [[139 220  52 126 193]\n",
            " [226  48 130 170  25]\n",
            " [ 97  38   3 136 100]\n",
            " [114  27  90 175 160]\n",
            " [138 178  42  37  87]]\n"
          ]
        }
      ]
    }
  ]
}