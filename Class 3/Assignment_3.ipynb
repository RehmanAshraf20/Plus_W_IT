{
  "nbformat": 4,
  "nbformat_minor": 0,
  "metadata": {
    "colab": {
      "provenance": []
    },
    "kernelspec": {
      "name": "python3",
      "display_name": "Python 3"
    },
    "language_info": {
      "name": "python"
    }
  },
  "cells": [
    {
      "cell_type": "code",
      "execution_count": 11,
      "metadata": {
        "colab": {
          "base_uri": "https://localhost:8080/"
        },
        "id": "3HGxPZf1H8II",
        "outputId": "d3674499-8e2b-45dc-e362-62feb36062a6"
      },
      "outputs": [
        {
          "output_type": "stream",
          "name": "stdout",
          "text": [
            "Tasks:\n",
            "Finish Homework\n",
            "Buy Groceries\n",
            "Tasks:\n",
            "Buy Groceries\n"
          ]
        }
      ],
      "source": [
        "# ------ Task 1 ------\n",
        "tasks=[]\n",
        "def add_task(task):\n",
        "    tasks.append(task)\n",
        "def remove_task(task):\n",
        "    if task in tasks:\n",
        "      tasks.remove(task)\n",
        "def view_task():\n",
        "    print(\"Tasks:\")\n",
        "    for task in tasks:\n",
        "        print(task)\n",
        "add_task(\"Finish Homework\")\n",
        "add_task(\"Buy Groceries\")\n",
        "view_task()\n",
        "remove_task(\"Finish Homework\")\n",
        "view_task()"
      ]
    },
    {
      "cell_type": "code",
      "source": [
        "# ------ Task 2 ------\n",
        "list=[7,2,3,43,5]\n",
        "def find_max_min(list):\n",
        "    max=list[0]\n",
        "    min=list[0]\n",
        "    for num in list:\n",
        "        if num>max:\n",
        "            max=num\n",
        "        if num<min:\n",
        "            min=num\n",
        "    return max,min\n",
        "max_value,min_value=find_max_min(list)\n",
        "print(\"Maximum Value:\",max_value)\n",
        "print(\"Minimum Value:\",min_value)"
      ],
      "metadata": {
        "colab": {
          "base_uri": "https://localhost:8080/"
        },
        "id": "s3Nq4MD7J-VY",
        "outputId": "6e2726f8-499a-4b22-d2a0-8272f3d8d1c9"
      },
      "execution_count": 15,
      "outputs": [
        {
          "output_type": "stream",
          "name": "stdout",
          "text": [
            "Maximum Value: 43\n",
            "Minimum Value: 2\n"
          ]
        }
      ]
    },
    {
      "cell_type": "code",
      "source": [
        "# ------ Task 3 ------\n",
        "phonebook={}\n",
        "def add_contact(name,number):\n",
        "    phonebook[name]=number\n",
        "def get_number(name):\n",
        "    if name in phonebook:\n",
        "        return phonebook[name]\n",
        "    else:\n",
        "        return \"Contact not found\"\n",
        "add_contact(\"John\",\"1234567890\")\n",
        "add_contact(\"Jane\",\"9876543210\")\n",
        "print(get_number(\"John\"))\n",
        "print(get_number(\"Jane\"))"
      ],
      "metadata": {
        "colab": {
          "base_uri": "https://localhost:8080/"
        },
        "id": "L0ouWYyIKlrz",
        "outputId": "686b8e3f-4f69-4d75-8075-2078a7bb3798"
      },
      "execution_count": 18,
      "outputs": [
        {
          "output_type": "stream",
          "name": "stdout",
          "text": [
            "1234567890\n",
            "9876543210\n"
          ]
        }
      ]
    },
    {
      "cell_type": "code",
      "source": [
        "# ------ Task 4 ------\n",
        "inventory={}\n",
        "def add_item(item,quantity):\n",
        "    if item in inventory:\n",
        "        inventory[item]+=quantity\n",
        "    else:\n",
        "        inventory[item]=quantity\n",
        "def remove_item(item,quantity):\n",
        "  if item in inventory and inventory[item]>=quantity:\n",
        "    inventory[item]-=quantity\n",
        "    if inventory[item]==0:\n",
        "      del inventory[item]\n",
        "  else:\n",
        "    print(f\"Insufficient quantity of {item}\")\n",
        "def view_inventory():\n",
        "    print(\"Inventory:\")\n",
        "    for item,quantity in inventory.items():\n",
        "        print(f\"{item}:{quantity}\")\n",
        "add_item(\"Apple\",10)\n",
        "add_item(\"Banana\",5)\n",
        "view_inventory()\n",
        "remove_item(\"Apple\",3)\n",
        "view_inventory()"
      ],
      "metadata": {
        "colab": {
          "base_uri": "https://localhost:8080/"
        },
        "id": "JDScQ34PLLRM",
        "outputId": "6dcf0cc6-1d9d-48e7-c15a-c2bab8dc7dff"
      },
      "execution_count": 20,
      "outputs": [
        {
          "output_type": "stream",
          "name": "stdout",
          "text": [
            "Inventory:\n",
            "Apple:10\n",
            "Banana:5\n",
            "Inventory:\n",
            "Apple:7\n",
            "Banana:5\n"
          ]
        }
      ]
    },
    {
      "cell_type": "code",
      "source": [
        "# ------ Task 5 ------\n",
        "def deposit(balance,amount):\n",
        "  balance += amount\n",
        "  print(f\"Deposited: {amount}. New balance: {balance}\")\n",
        "  return balance\n",
        "def withdraw(balance,amount):\n",
        "  if balance >= amount:\n",
        "    balance -= amount\n",
        "    print(f\"Withdrew: {amount}. New balance: {balance}\")\n",
        "  else:\n",
        "    print(\"Insufficient funds\")\n",
        "    return balance\n",
        "def check_balance(balance):\n",
        "  print(f\"Current balance: {balance}\")\n",
        "  return balance\n",
        "balance = 1000\n",
        "check_balance(balance)\n",
        "balance = deposit(balance, 500)\n",
        "balance = withdraw(balance, 200)\n",
        "\n"
      ],
      "metadata": {
        "colab": {
          "base_uri": "https://localhost:8080/"
        },
        "id": "P-ffKXw_MOYM",
        "outputId": "6138bf0b-ff23-42e6-9002-0c9a79aa9245"
      },
      "execution_count": 26,
      "outputs": [
        {
          "output_type": "stream",
          "name": "stdout",
          "text": [
            "Current balance: 1000\n",
            "Deposited: 500. New balance: 1500\n",
            "Withdrew: 200. New balance: 1300\n",
            "Current balance: None\n"
          ]
        }
      ]
    }
  ]
}