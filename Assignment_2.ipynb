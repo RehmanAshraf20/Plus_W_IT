{
  "nbformat": 4,
  "nbformat_minor": 0,
  "metadata": {
    "colab": {
      "provenance": []
    },
    "kernelspec": {
      "name": "python3",
      "display_name": "Python 3"
    },
    "language_info": {
      "name": "python"
    }
  },
  "cells": [
    {
      "cell_type": "code",
      "execution_count": null,
      "metadata": {
        "colab": {
          "base_uri": "https://localhost:8080/"
        },
        "id": "FLir4eoJG34o",
        "outputId": "cc153db4-aaf9-4421-e783-1c8488a65d7e"
      },
      "outputs": [
        {
          "name": "stdout",
          "output_type": "stream",
          "text": [
            "Enter Your First Name: Rehman\n",
            "Enter Your Last Name: Ashraf\n"
          ]
        }
      ],
      "source": [
        "#------ Task 1 -------\n",
        "fname=input(\"Enter Your First Name: \")\n",
        "lname=input(\"Enter Your Last Name: \")"
      ]
    },
    {
      "cell_type": "code",
      "source": [
        "fname=fname.upper()\n",
        "lname=lname.upper()"
      ],
      "metadata": {
        "id": "AceEUoq0HF4i"
      },
      "execution_count": null,
      "outputs": []
    },
    {
      "cell_type": "code",
      "source": [
        "total_letters=len(fname)+len(lname)\n",
        "print(total_letters)"
      ],
      "metadata": {
        "colab": {
          "base_uri": "https://localhost:8080/"
        },
        "id": "WaXG2jJ_HifY",
        "outputId": "5f9e89d0-db8f-484a-9350-a9d064a75ff3"
      },
      "execution_count": null,
      "outputs": [
        {
          "output_type": "stream",
          "name": "stdout",
          "text": [
            "12\n"
          ]
        }
      ]
    },
    {
      "cell_type": "code",
      "source": [
        "lname=lname.lower();\n",
        "print(\"First name (upper):\",fname)\n",
        "print(\"Lasr name (lower):\",lname)\n",
        "total_letters=len(fname)+len(lname)\n",
        "print(\"Sum of letters of your firstname and last name is:\",total_letters)"
      ],
      "metadata": {
        "colab": {
          "base_uri": "https://localhost:8080/"
        },
        "id": "swhMeCVjH9yd",
        "outputId": "9c7d21e4-db27-4749-97ee-60a31ff3b66b"
      },
      "execution_count": null,
      "outputs": [
        {
          "output_type": "stream",
          "name": "stdout",
          "text": [
            "First name (upper): REHMAN\n",
            "Lasr name (lower): ashraf\n",
            "Sum of letters of your firstname and last name is: 12\n"
          ]
        }
      ]
    },
    {
      "cell_type": "code",
      "source": [
        "#------ Task 2 ------\n",
        "print(\"Area Calculator\")\n",
        "print(\"1. Circle\")\n",
        "print(\"2. Rectangle\")\n",
        "print(\"3. Sqaure\")\n",
        "print(\"4. Triangle\")\n",
        "print(\"5. Exit\")\n",
        "def menu():\n",
        "  while True:\n",
        "    choice=int(input(\"Enter A Number(1-5): \"))\n",
        "    match choice:\n",
        "        case 1:\n",
        "            print(\"Enter radius\")\n",
        "            radius=float(input())\n",
        "            circle=3.14*(radius*radius)\n",
        "            print (\"Area of given circle is:\",circle)\n",
        "        case 2:\n",
        "            length=float(input(\"Enter Length:\"))\n",
        "            width=float(input(\"Enter Width:\"))\n",
        "            rectangle=length*width\n",
        "            print(\"Area of Given Rectangle is:\",rectangle)\n",
        "        case 3:\n",
        "            side=float(input(\"Enter Value of Side:\"))\n",
        "            print(\"Area of square is:\",side*side)\n",
        "        case 4:\n",
        "            base=float(input(\"Enter Value of Base:\"))\n",
        "            height=float(input(\"Enter Value of Height:\"))\n",
        "            print(\"Area of Triangle is:\",base*height*0.5)\n",
        "        case 5:\n",
        "            print(\"Exiting....\")\n",
        "            break\n",
        "        case _:\n",
        "            print(\"Invalid Entry\")\n",
        "menu()"
      ],
      "metadata": {
        "colab": {
          "base_uri": "https://localhost:8080/"
        },
        "id": "SDHyEC2OK2-I",
        "outputId": "e3287b9a-df32-414e-8a29-204998f0738b"
      },
      "execution_count": 2,
      "outputs": [
        {
          "output_type": "stream",
          "name": "stdout",
          "text": [
            "Area Calculator\n",
            "1. Circle\n",
            "2. Rectangle\n",
            "3. Sqaure\n",
            "4. Triangle\n",
            "5. Exit\n",
            "Enter A Number(1-5): 5\n",
            "Exiting....\n"
          ]
        }
      ]
    },
    {
      "cell_type": "code",
      "source": [
        "#------ Task 3 ------\n",
        "import random\n",
        "colors=[\"red\",\"blue\",\"green\",\"yellow\",\"orange\",\"purple\"]\n",
        "index=random.randint(0,len(colors)-1)\n",
        "selected_color=colors[index]\n",
        "password=selected_color[::-1]\n",
        "print(\"Selected Color:\",selected_color)\n",
        "print(\"Generated Password:\",password)"
      ],
      "metadata": {
        "colab": {
          "base_uri": "https://localhost:8080/"
        },
        "id": "hUvYRhEbRKYk",
        "outputId": "8c1ea2f9-ea86-422c-cb57-f7eeccf940a1"
      },
      "execution_count": 3,
      "outputs": [
        {
          "output_type": "stream",
          "name": "stdout",
          "text": [
            "Selected Color orange\n",
            "Generated Password: egnaro\n"
          ]
        }
      ]
    }
  ]
}